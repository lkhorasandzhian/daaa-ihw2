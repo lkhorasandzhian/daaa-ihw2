{
 "cells": [
  {
   "cell_type": "code",
   "execution_count": null,
   "metadata": {},
   "outputs": [],
   "source": [
    "# Import utility libraries.\n",
    "import numpy as np\n",
    "import pandas as pd\n",
    "import matplotlib as mpl\n",
    "import matplotlib.pyplot as plt\n",
    "import seaborn as sns"
   ]
  },
  {
   "cell_type": "code",
   "execution_count": null,
   "metadata": {},
   "outputs": [],
   "source": [
    "# Run if you use dark theme.\n",
    "mpl.rcParams['text.color'] = 'black'\n",
    "mpl.rcParams['axes.labelcolor'] = 'black'\n",
    "mpl.rcParams['xtick.color'] = 'black'\n",
    "mpl.rcParams['ytick.color'] = 'black'"
   ]
  },
  {
   "cell_type": "code",
   "execution_count": null,
   "metadata": {},
   "outputs": [],
   "source": [
    "# Seaborn font size.\n",
    "sns.set(font_scale=1)"
   ]
  },
  {
   "cell_type": "code",
   "execution_count": null,
   "metadata": {},
   "outputs": [],
   "source": [
    "# Visualizer for all included searchs.\n",
    "def print_searchs_comparison(test):\n",
    "    for search_type in set(test[\"search_type\"]):\n",
    "        search_df = test[test['search_type'] == search_type]\n",
    "        text_types = search_df['text_type'].unique()\n",
    "\n",
    "        plt.figure(figsize=(20, 10))\n",
    "\n",
    "        for text_type in text_types:\n",
    "            current_data = search_df[search_df['text_type'] == text_type]\n",
    "            plt.plot(current_data['size'], current_data['time(ns)'], label=text_type)\n",
    "\n",
    "        plt.title(search_type)\n",
    "        plt.xlabel('Text Size')\n",
    "        plt.xticks(search_df['size'].unique())\n",
    "        plt.ylabel('Time(ns)')\n",
    "        plt.legend(labelcolor='black', prop={'size': 15})"
   ]
  },
  {
   "cell_type": "code",
   "execution_count": null,
   "metadata": {},
   "outputs": [],
   "source": [
    "# Visualizer for all 4 types of generated arrays.\n",
    "def print_texts_comparison(test):\n",
    "    text_types = test['text_type'].unique()\n",
    "\n",
    "    fig, axes = plt.subplots(2, 2, figsize=(25, 25))\n",
    "\n",
    "    flattened_axes = axes.flatten()\n",
    "\n",
    "    for i in range(text_types.shape[0]):\n",
    "        ax = flattened_axes[i]\n",
    "        text_type = text_types[i]\n",
    "\n",
    "        current_df = test[test['text_type'] == text_type]\n",
    "\n",
    "        search_types = current_df['search_type'].unique()\n",
    "        for search_type in search_types:\n",
    "            current_df_grouped_by_search_type = current_df[current_df['search_type'] == search_type]\n",
    "            ax.plot(current_df_grouped_by_search_type['size'], current_df_grouped_by_search_type['time(ns)'], label=search_type)\n",
    "\n",
    "        ax.set_title(text_type)\n",
    "        ax.set_xlabel('Array Size')\n",
    "        ax.set_ylabel('Time(ns)')\n",
    "        ax.legend()\n",
    "        ax.plot()"
   ]
  },
  {
   "cell_type": "code",
   "execution_count": null,
   "metadata": {},
   "outputs": [],
   "source": [
    "# Data reading from 'test_0.csv' in 'Tests' folder.\n",
    "test0 = pd.read_csv('../Tests/test_time_0.csv', sep=';', header=None)\n",
    "test0.columns = ['text_type', 'size', 'search_type', 'time(ns)']\n",
    "\n",
    "# Data reading from 'test_1.csv' in 'Tests' folder.\n",
    "test1 = pd.read_csv('../Tests/test_time_1.csv', sep=';', header=None)\n",
    "test1.columns = ['text_type', 'size', 'search_type', 'time(ns)']\n",
    "\n",
    "# Data reading from 'test_2.csv' in 'Tests' folder.\n",
    "test2 = pd.read_csv('../Tests/test_time_2.csv', sep=';', header=None)\n",
    "test2.columns = ['text_type', 'size', 'search_type', 'time(ns)']\n",
    "\n",
    "# Data reading from 'test_3.csv' in 'Tests' folder.\n",
    "test3 = pd.read_csv('../Tests/test_time_3.csv', sep=';', header=None)\n",
    "test3.columns = ['text_type', 'size', 'search_type', 'time(ns)']\n",
    "\n",
    "# Data reading from 'test_4.csv' in 'Tests' folder.\n",
    "test4 = pd.read_csv('../Tests/test_time_4.csv', sep=';', header=None)\n",
    "test4.columns = ['text_type', 'size', 'search_type', 'time(ns)']"
   ]
  },
  {
   "cell_type": "code",
   "execution_count": null,
   "metadata": {},
   "outputs": [],
   "source": [
    "print_searchs_comparison(test0)"
   ]
  },
  {
   "cell_type": "code",
   "execution_count": null,
   "metadata": {},
   "outputs": [],
   "source": [
    "print_searchs_comparison(test1)"
   ]
  },
  {
   "cell_type": "code",
   "execution_count": null,
   "metadata": {},
   "outputs": [],
   "source": [
    "print_searchs_comparison(test2)"
   ]
  },
  {
   "cell_type": "code",
   "execution_count": null,
   "metadata": {},
   "outputs": [],
   "source": [
    "print_searchs_comparison(test3)"
   ]
  },
  {
   "cell_type": "code",
   "execution_count": null,
   "metadata": {},
   "outputs": [],
   "source": [
    "print_searchs_comparison(test4)"
   ]
  },
  {
   "cell_type": "markdown",
   "metadata": {},
   "source": [
    "---"
   ]
  },
  {
   "cell_type": "code",
   "execution_count": null,
   "metadata": {},
   "outputs": [],
   "source": [
    "print_texts_comparison(test0)"
   ]
  },
  {
   "cell_type": "code",
   "execution_count": null,
   "metadata": {},
   "outputs": [],
   "source": [
    "print_texts_comparison(test1)"
   ]
  },
  {
   "cell_type": "code",
   "execution_count": null,
   "metadata": {},
   "outputs": [],
   "source": [
    "print_texts_comparison(test2)"
   ]
  },
  {
   "cell_type": "code",
   "execution_count": null,
   "metadata": {},
   "outputs": [],
   "source": [
    "print_texts_comparison(test3)"
   ]
  },
  {
   "cell_type": "code",
   "execution_count": null,
   "metadata": {},
   "outputs": [],
   "source": [
    "print_texts_comparison(test4)"
   ]
  }
 ],
 "metadata": {
  "kernelspec": {
   "display_name": "Python 3.8.8 ('base')",
   "language": "python",
   "name": "python3"
  },
  "language_info": {
   "codemirror_mode": {
    "name": "ipython",
    "version": 3
   },
   "file_extension": ".py",
   "mimetype": "text/x-python",
   "name": "python",
   "nbconvert_exporter": "python",
   "pygments_lexer": "ipython3",
   "version": "3.8.8"
  },
  "orig_nbformat": 4,
  "vscode": {
   "interpreter": {
    "hash": "ad2bdc8ecc057115af97d19610ffacc2b4e99fae6737bb82f5d7fb13d2f2c186"
   }
  }
 },
 "nbformat": 4,
 "nbformat_minor": 2
}
